{
 "cells": [
  {
   "cell_type": "code",
   "execution_count": 2,
   "id": "207f62e2-aaf0-48df-9499-b2e8cb99ae0a",
   "metadata": {},
   "outputs": [
    {
     "name": "stdin",
     "output_type": "stream",
     "text": [
      " 1\n"
     ]
    },
    {
     "name": "stdout",
     "output_type": "stream",
     "text": [
      "2\n"
     ]
    }
   ],
   "source": [
    "#bai1#\n",
    "a=int(input())\n",
    "print(2*a)"
   ]
  },
  {
   "cell_type": "code",
   "execution_count": 3,
   "id": "98a6655a-3a6e-4db3-9835-c0b71bb420a6",
   "metadata": {},
   "outputs": [
    {
     "name": "stdin",
     "output_type": "stream",
     "text": [
      " 10 9\n"
     ]
    },
    {
     "name": "stdout",
     "output_type": "stream",
     "text": [
      "11.50\n"
     ]
    }
   ],
   "source": [
    "#bai2#\n",
    "a,b=map(int,input().split())\n",
    "S=(a/2)**2*3.14\n",
    "print(f'{(a*b-S):.2f}')"
   ]
  },
  {
   "cell_type": "code",
   "execution_count": 26,
   "id": "81cdc3db-22af-4aa5-8e4a-ba88248bad24",
   "metadata": {},
   "outputs": [
    {
     "name": "stdin",
     "output_type": "stream",
     "text": [
      "Nhập một kí tự:  a\n"
     ]
    },
    {
     "name": "stdout",
     "output_type": "stream",
     "text": [
      "A\n"
     ]
    }
   ],
   "source": [
    "#bai3#\n",
    "c = input(\"Nhập một kí tự: \")\n",
    "if c.isupper():\n",
    "    print(c.lower())\n",
    "elif c.islower():\n",
    "    print(c.upper())\n",
    "else:\n",
    "    print(\"Kí tự không phải chữ cái!\")\n"
   ]
  },
  {
   "cell_type": "code",
   "execution_count": 27,
   "id": "72de2511-8baf-42f4-bfe3-82ad6d067322",
   "metadata": {},
   "outputs": [
    {
     "name": "stdin",
     "output_type": "stream",
     "text": [
      "Nhập một kí tự:  a\n"
     ]
    },
    {
     "name": "stdout",
     "output_type": "stream",
     "text": [
      "a là kí tự alphabet\n"
     ]
    }
   ],
   "source": [
    "#bai4#\n",
    "c = input(\"Nhập một kí tự: \")\n",
    "if c.isalpha():\n",
    "    print(f\"{c} là kí tự alphabet\")\n",
    "else:\n",
    "    print(f\"{c} không phải là kí tự alphabet\")"
   ]
  },
  {
   "cell_type": "code",
   "execution_count": 29,
   "id": "99f0bb8b-2b01-4d26-a599-7deb68184ef3",
   "metadata": {},
   "outputs": [
    {
     "name": "stdin",
     "output_type": "stream",
     "text": [
      "Nhập một chữ cái hoa:  c\n"
     ]
    },
    {
     "name": "stdout",
     "output_type": "stream",
     "text": [
      "b\n"
     ]
    }
   ],
   "source": [
    "#bai5#\n",
    "c = input(\"Nhập một chữ cái hoa: \")\n",
    "if c == 'A':\n",
    "        print(\"A là trường hợp đặc biệt, không có chữ cái thường liền trước 'a'\")\n",
    "else:\n",
    "        print(chr(ord(c.lower()) - 1))"
   ]
  },
  {
   "cell_type": "code",
   "execution_count": 33,
   "id": "2481acac-adbb-46db-a681-00203dae8eb8",
   "metadata": {},
   "outputs": [
    {
     "name": "stdin",
     "output_type": "stream",
     "text": [
      " 1 2 3\n"
     ]
    },
    {
     "name": "stdout",
     "output_type": "stream",
     "text": [
      "Khong phai 3 canh cua tam giac\n"
     ]
    }
   ],
   "source": [
    "#bai6#\n",
    "a, b, c = map(float, input().split())\n",
    "if a > 0 and b > 0 and c > 0 and (a + b > c) and (a + c > b) and (b + c > a):\n",
    "    p = (a + b + c) / 2\n",
    "    S = (p * (p - a) * (p - b) * (p - c)) ** 0.5\n",
    "    print(f\"{S:.1f}\")\n",
    "else:\n",
    "    print(\"Khong phai 3 canh cua tam giac\")"
   ]
  },
  {
   "cell_type": "code",
   "execution_count": 34,
   "id": "c3899355-71fa-44f0-87d4-a5c76b488c85",
   "metadata": {},
   "outputs": [
    {
     "name": "stdin",
     "output_type": "stream",
     "text": [
      " ouahsdouiahoiwhjdoajsdoiahsd\n"
     ]
    },
    {
     "name": "stdout",
     "output_type": "stream",
     "text": [
      "s i\n"
     ]
    }
   ],
   "source": [
    "#bai7#\n",
    "s = input()\n",
    "if len(s) >= 20:\n",
    "    print(s[4], s[8])\n",
    "else:\n",
    "3    print(\"Chuoi khong du 20 ky tu\")"
   ]
  },
  {
   "cell_type": "code",
   "execution_count": 39,
   "id": "958057b0-ef05-4989-aae1-e3f8bea24a16",
   "metadata": {},
   "outputs": [
    {
     "name": "stdin",
     "output_type": "stream",
     "text": [
      "Nhap ho ten:  a\n",
      "Nhap chi so thang truoc:  2000\n",
      "Nhap chi so thang nay:  2586\n"
     ]
    },
    {
     "name": "stdout",
     "output_type": "stream",
     "text": [
      "Ho va ten: 1\n",
      "Tien phai tra la: 1855505\n"
     ]
    }
   ],
   "source": [
    "#bai8#\n",
    "a = input(\"Nhap ho ten: \")\n",
    "b = int(input(\"Nhap chi so thang truoc: \"))\n",
    "c = int(input(\"Nhap chi so thang nay: \"))\n",
    "d = c - b\n",
    "\n",
    "if d <= 50:\n",
    "    t = d * 1984\n",
    "elif d <= 100:\n",
    "    t = 50 * 1984 + (d - 50) * 2050\n",
    "elif d <= 200:\n",
    "    t = 50 * 1984 + 50 * 2050 + (d - 100) * 2380\n",
    "elif d <= 300:\n",
    "    t = 50 * 1984 + 50 * 2050 + 100 * 2380 + (d - 200) * 2998\n",
    "elif d <= 400:\n",
    "    t = 50 * 1984 + 50 * 2050 + 100 * 2380 + 100 * 2998 + (d - 300) * 3350\n",
    "else:\n",
    "    t = 50 * 1984 + 50 * 2050 + 100 * 2380 + 100 * 2998 + 100 * 3350 + (d - 400) * 3460\n",
    "\n",
    "t *= 1.08\n",
    "print(\"Ho va ten:\", name)\n",
    "print(\"Tien phai tra la:\", f\"{t:.0f}\")"
   ]
  },
  {
   "cell_type": "code",
   "execution_count": null,
   "id": "534126d7-98f4-4adb-834d-822947a76751",
   "metadata": {},
   "outputs": [],
   "source": []
  }
 ],
 "metadata": {
  "kernelspec": {
   "display_name": "Python 3 (ipykernel)",
   "language": "python",
   "name": "python3"
  },
  "language_info": {
   "codemirror_mode": {
    "name": "ipython",
    "version": 3
   },
   "file_extension": ".py",
   "mimetype": "text/x-python",
   "name": "python",
   "nbconvert_exporter": "python",
   "pygments_lexer": "ipython3",
   "version": "3.13.5"
  }
 },
 "nbformat": 4,
 "nbformat_minor": 5
}
